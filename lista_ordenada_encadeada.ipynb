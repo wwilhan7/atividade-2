{
 "cells": [
  {
   "cell_type": "markdown",
   "metadata": {},
   "source": [
    "# Implementação de uma lista ordenada encadeada"
   ]
  },
  {
   "cell_type": "markdown",
   "metadata": {},
   "source": [
    "# O Nó da lista"
   ]
  },
  {
   "cell_type": "code",
   "execution_count": 2,
   "metadata": {},
   "outputs": [],
   "source": [
    "class Node:\n",
    "    def __init__(self, qtd, preco, descricao):\n",
    "        self.qtd = qtd\n",
    "        self.preco = preco\n",
    "        self.descricao = descricao\n",
    "        self.next = None"
   ]
  },
  {
   "cell_type": "markdown",
   "metadata": {},
   "source": [
    "# Construção da lista\n",
    "\n",
    "Estrutura da lista:\n",
    "Operações básica:\n",
    "- insert\n",
    "- search\n",
    "- remove\n",
    "\n",
    "Operações complementares:\n",
    "- is_empty\n",
    "- display"
   ]
  },
  {
   "cell_type": "code",
   "execution_count": 23,
   "metadata": {},
   "outputs": [],
   "source": [
    "\n",
    "class OrdenedList:\n",
    "    def __init__(self):\n",
    "        self.head = None\n",
    "\n",
    "    def is_empty(self):\n",
    "        return self.head is None\n",
    "    \n",
    "    def insert(self, qtd, preco, descricao):\n",
    "        new_node = Node(qtd, preco, descricao)\n",
    "\n",
    "        if self.is_empty() or descricao <= self.head.descricao:\n",
    "            new_node.next = self.head \n",
    "            self.head = new_node\n",
    "        else:\n",
    "            current = self.head\n",
    "            while current.next is not None and current.next.descricao < descricao:\n",
    "                current = current.next\n",
    "            new_node.next = current.next\n",
    "            current.next = new_node\n",
    "\n",
    "    def search(self, descricao):\n",
    "        current = self.head\n",
    "        while current is not None and current.descricao <= descricao:\n",
    "            if current.descricao == descricao:\n",
    "                return current\n",
    "            current = current.next\n",
    "        return None\n",
    "    \n",
    "    def remove(self, descricao):\n",
    "        if self.is_empty():\n",
    "            return None\n",
    "\n",
    "        if self.head.descricao == descricao:\n",
    "            removed_node = self.head\n",
    "            self.head = self.head.next\n",
    "            return removed_node\n",
    "\n",
    "        current = self.head\n",
    "        while current.next is not None and current.next.descricao < descricao:\n",
    "            current = current.next\n",
    "\n",
    "        if current.next is None or current.next.descricao > descricao:\n",
    "            return None\n",
    "\n",
    "        removed_node = current.next\n",
    "        current.next = current.next.next\n",
    "        return removed_node\n",
    "\n",
    "    def display(self):\n",
    "        if self.is_empty():\n",
    "            print(\"A lista ordenada está vazia!\")\n",
    "        else:\n",
    "            current = self.head\n",
    "            while current:\n",
    "                print(f\"Qtd: {current.qtd}, Preço: {current.preco}, Descrição: {current.descricao}\")\n",
    "                current = current.next\n"
   ]
  },
  {
   "cell_type": "code",
   "execution_count": 24,
   "metadata": {},
   "outputs": [
    {
     "name": "stdout",
     "output_type": "stream",
     "text": [
      "Qtd: 1, Preço: 10.0, Descrição: item 1\n",
      "Qtd: 1, Preço: 15.0, Descrição: item 2\n",
      "\n",
      "\n",
      "Nova exibição após a remoção\n",
      "A lista ordenada está vazia!\n"
     ]
    }
   ],
   "source": [
    "ol = OrdenedList()\n",
    "\n",
    "ol.insert(1, 10.0, \"banana\")\n",
    "ol.insert(1, 15.0, \"apple\")\n",
    "ol.insert(1, 20.0, \"orange\")\n",
    "ol.insert(1, 25.0, \"grape\")\n",
    "ol.insert(1, 30.0, \"watermelon\")\n",
    "\n",
    "print(\"Lista ordenada por descrição:\")\n",
    "ol.display()\n",
    "\n",
    "print(\"\\nBusca por 'apple':\")\n",
    "resultado = ol.search(\"apple\")\n",
    "print(resultado.descricao)\n",
    "\n",
    "print(\"\\nRemovendo 'banana' e 'orange':\")\n",
    "ol.remove(\"banana\")\n",
    "ol.remove(\"orange\")\n",
    "\n",
    "print(\"\\nNova exibição após a remoção:\")\n",
    "ol.display()\n"
   ]
  },
  {
   "cell_type": "code",
   "execution_count": null,
   "metadata": {},
   "outputs": [],
   "source": [
    "# Mudanças Realizadas:\n",
    "\"\"\" Modifiquei o método insert para ordenar os elementos com base no atributo descricao.\n",
    "    Ajustei os métodos search e remove para operar com base no atributo descricao.\n",
    "\n",
    "Testes Efetuados:\n",
    "\n",
    "    Inseri vários produtos com descrições variadas para verificar a ordenação correta.\n",
    "    Realizei buscas e remoções para confirmar o funcionamento correto das operações com a nova chave de ordenação.\n",
    "\n",
    "Reflexão:\n",
    "\n",
    "    Adaptações foram necessárias para garantir que todas as operações considerassem a nova chave de ordenação.\n",
    "    Um dos principais desafios foi garantir a consistência da ordenação alfabética das descrições.\n",
    "    A escolha da chave de ordenação afeta diretamente o desempenho das operações na lista, especialmente a complexidade das comparações.\"\"\""
   ]
  }
 ],
 "metadata": {
  "kernelspec": {
   "display_name": "ri",
   "language": "python",
   "name": "python3"
  },
  "language_info": {
   "codemirror_mode": {
    "name": "ipython",
    "version": 3
   },
   "file_extension": ".py",
   "mimetype": "text/x-python",
   "name": "python",
   "nbconvert_exporter": "python",
   "pygments_lexer": "ipython3",
   "version": "3.11.5"
  }
 },
 "nbformat": 4,
 "nbformat_minor": 2
}
